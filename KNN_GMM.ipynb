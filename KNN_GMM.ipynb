{
 "cells": [
  {
   "cell_type": "code",
   "execution_count": 1,
   "metadata": {},
   "outputs": [],
   "source": [
    "from PIL import Image, ImageStat\n",
    "import numpy\n",
    "import glob, os\n",
    "import scipy.misc\n",
    "from matplotlib import pyplot\n",
    "\n",
    "%matplotlib inline\n",
    "\n",
    "import scipy as sp\n",
    "import pylab as pl\n",
    "from sklearn.feature_extraction.image import grid_to_graph\n",
    "from sklearn.cluster import KMeans\n",
    "from skimage.io import imread"
   ]
  },
  {
   "cell_type": "code",
   "execution_count": 2,
   "metadata": {
    "collapsed": true
   },
   "outputs": [],
   "source": [
    "def converged(centroids, old_centroids):\n",
    "\tif len(old_centroids) == 0:\n",
    "\t\treturn False\n",
    "\n",
    "\n",
    "\tif len(centroids) <= 5:\n",
    "\t\ta = 1\n",
    "\telif len(centroids) <= 10:\n",
    "\t\ta = 2\n",
    "\telse:\n",
    "\t\ta = 4\n",
    "\n",
    "\tfor i in range(0, len(centroids)):\n",
    "\t\tcent = centroids[i]\n",
    "\t\told_cent = old_centroids[i]\n",
    "\n",
    "\t\tif ((int(old_cent[0]) - a) <= cent[0] <= (int(old_cent[0]) + a)) and ((int(old_cent[1]) - a) <= cent[1] <= (int(old_cent[1]) + a)) and ((int(old_cent[2]) - a) <= cent[2] <= (int(old_cent[2]) + a)):\n",
    "\t\t\tcontinue\n",
    "\t\telse:\n",
    "\t\t\treturn False\n",
    "\n",
    "\treturn True"
   ]
  },
  {
   "cell_type": "code",
   "execution_count": 3,
   "metadata": {
    "collapsed": true
   },
   "outputs": [],
   "source": [
    "def getMin(pixel, centroids):\n",
    "\tminDist = 9999\n",
    "\tminIndex = 0\n",
    "\n",
    "\tfor i in range(0, len(centroids)):\n",
    "\t\td = numpy.sqrt(int((centroids[i][0] - pixel[0]))**2 + int((centroids[i][1] - pixel[1]))**2 + int((centroids[i][2] - pixel[2]))**2)\n",
    "\t\tif d < minDist:\n",
    "\t\t\tminDist = d\n",
    "\t\t\tminIndex = i\n",
    "\n",
    "\treturn minIndex"
   ]
  },
  {
   "cell_type": "code",
   "execution_count": 4,
   "metadata": {
    "collapsed": true
   },
   "outputs": [],
   "source": [
    "def assignPixels(centroids):\n",
    "\tclusters = {}\n",
    "\n",
    "\tfor x in range(0, img_width):\n",
    "\t\tfor y in range(0, img_height):\n",
    "\t\t\tp = px[x, y]\n",
    "\t\t\tminIndex = getMin(px[x, y], centroids)\n",
    "\n",
    "\t\t\ttry:\n",
    "\t\t\t\tclusters[minIndex].append(p)\n",
    "\t\t\texcept KeyError:\n",
    "\t\t\t\tclusters[minIndex] = [p]\n",
    "\n",
    "\treturn clusters"
   ]
  },
  {
   "cell_type": "code",
   "execution_count": 5,
   "metadata": {
    "collapsed": true
   },
   "outputs": [],
   "source": [
    "def adjustCentroids(centroids, clusters):\n",
    "\tnew_centroids = []\n",
    "\tkeys = sorted(clusters.keys())\n",
    "\t#print(keys)\n",
    "\n",
    "\tfor k in keys:\n",
    "\t\tn = numpy.mean(clusters[k], axis=0)\n",
    "\t\tnew = (int(n[0]), int(n[1]), int(n[2]))\n",
    "\t\tprint(str(k) + \": \" + str(new))\n",
    "\t\tnew_centroids.append(new)\n",
    "\n",
    "\treturn new_centroids"
   ]
  },
  {
   "cell_type": "code",
   "execution_count": 6,
   "metadata": {
    "collapsed": true
   },
   "outputs": [],
   "source": [
    "def startKmeans(someK):\n",
    "\tcentroids = []\n",
    "\told_centroids = []\n",
    "\trgb_range = ImageStat.Stat(im).extrema\n",
    "\ti = 1\n",
    "\n",
    "\t#Initializes someK number of centroids for the clustering\n",
    "\tfor k in range(0, someK):\n",
    "\n",
    "\t\tcent = px[numpy.random.randint(0, img_width), numpy.random.randint(0, img_height)]\n",
    "\t\tcentroids.append(cent)\n",
    "\t\n",
    "\n",
    "\tprint(\"Centroids Initialized. Starting Assignments\")\n",
    "\tprint(\"===========================================\")\n",
    "\n",
    "\twhile not converged(centroids, old_centroids) and i <= 20:\n",
    "\t\tprint(\"Iteration #\" + str(i))\n",
    "\t\ti += 1\n",
    "\n",
    "\t\told_centroids = centroids \t\t\t\t\t\t\t\t#Make the current centroids into the old centroids\n",
    "\t\tclusters = assignPixels(centroids) \t\t\t\t\t\t#Assign each pixel in the image to their respective centroids\n",
    "\t\tcentroids = adjustCentroids(old_centroids, clusters) \t#Adjust the centroids to the center of their assigned pixels\n",
    "\n",
    "\n",
    "\tprint(\"===========================================\")\n",
    "\tprint(\"Convergence Reached!\")\n",
    "\tprint(centroids)\n",
    "\treturn centroids\n",
    "\n",
    "#end startKmeans"
   ]
  },
  {
   "cell_type": "code",
   "execution_count": 7,
   "metadata": {
    "collapsed": true
   },
   "outputs": [],
   "source": [
    "def drawWindow(result):\n",
    "\timg = Image.new('RGB', (img_width, img_height), \"white\")\n",
    "\tp = img.load()\n",
    "\n",
    "\tfor x in range(img.size[0]):\n",
    "\t\tfor y in range(img.size[1]):\n",
    "\t\t\tRGB_value = result[getMin(px[x, y], result)]\n",
    "\t\t\tp[x, y] = RGB_value\n",
    "\n",
    "\timg.show(); img.save('tmp.png')"
   ]
  },
  {
   "cell_type": "code",
   "execution_count": 8,
   "metadata": {},
   "outputs": [
    {
     "name": "stdout",
     "output_type": "stream",
     "text": [
      "Enter K value: 3\n"
     ]
    }
   ],
   "source": [
    "k_input = int(input(\"Enter K value: \"))"
   ]
  },
  {
   "cell_type": "code",
   "execution_count": 9,
   "metadata": {
    "collapsed": true
   },
   "outputs": [],
   "source": [
    "im = Image.open('/Users/anmolukhare/Downloads/justice_league_poster_final_approved.jpeg')\n",
    "#im = Image.open(img)\n",
    "img_width, img_height = im.size\n",
    "px = im.load()"
   ]
  },
  {
   "cell_type": "code",
   "execution_count": 10,
   "metadata": {},
   "outputs": [
    {
     "name": "stdout",
     "output_type": "stream",
     "text": [
      "Centroids Initialized. Starting Assignments\n",
      "===========================================\n",
      "Iteration #1\n",
      "0: (251, 238, 224)\n",
      "1: (89, 42, 36)\n",
      "2: (2, 1, 2)\n",
      "Iteration #2\n",
      "0: (252, 242, 229)\n",
      "1: (129, 63, 49)\n",
      "2: (5, 3, 3)\n",
      "Iteration #3\n",
      "0: (253, 247, 237)\n",
      "1: (165, 87, 60)\n",
      "2: (9, 4, 5)\n",
      "Iteration #4\n",
      "0: (253, 250, 243)\n",
      "1: (191, 109, 69)\n",
      "2: (12, 6, 7)\n",
      "Iteration #5\n",
      "0: (253, 252, 247)\n",
      "1: (205, 124, 76)\n",
      "2: (14, 7, 8)\n",
      "Iteration #6\n",
      "0: (254, 253, 249)\n",
      "1: (213, 133, 82)\n",
      "2: (16, 7, 8)\n",
      "Iteration #7\n",
      "0: (254, 253, 250)\n",
      "1: (216, 138, 84)\n",
      "2: (17, 8, 9)\n",
      "Iteration #8\n",
      "0: (254, 253, 250)\n",
      "1: (217, 139, 85)\n",
      "2: (17, 8, 9)\n",
      "===========================================\n",
      "Convergence Reached!\n",
      "[(254, 253, 250), (217, 139, 85), (17, 8, 9)]\n"
     ]
    }
   ],
   "source": [
    "result = startKmeans(k_input)\n",
    "drawWindow(result)"
   ]
  },
  {
   "cell_type": "markdown",
   "metadata": {
    "collapsed": true
   },
   "source": [
    "## GMM"
   ]
  },
  {
   "cell_type": "code",
   "execution_count": 11,
   "metadata": {
    "collapsed": true
   },
   "outputs": [],
   "source": [
    "img = Image.open('/Users/anmolukhare/Downloads/justice_league_poster_final_approved.jpeg').resize((480,320), Image.ANTIALIAS)\n",
    "pixels = numpy.asarray(((img.getdata())))"
   ]
  },
  {
   "cell_type": "code",
   "execution_count": 12,
   "metadata": {
    "collapsed": true
   },
   "outputs": [],
   "source": [
    "N = 153600"
   ]
  },
  {
   "cell_type": "code",
   "execution_count": 13,
   "metadata": {
    "collapsed": true
   },
   "outputs": [],
   "source": [
    "feat = pixels\n",
    "v = [0,1,2]\n",
    "val = 250\n",
    "mean = [numpy.array([120, 120, 120]), numpy.array([12, 12, 12]), numpy.array([180, 180, 180])]\n",
    "var = [val*numpy.identity(3), val*numpy.identity(3), val*numpy.identity(3)]"
   ]
  },
  {
   "cell_type": "code",
   "execution_count": 14,
   "metadata": {
    "collapsed": true
   },
   "outputs": [],
   "source": [
    "weights = [float(1/3), float(1/3), float(1/3)]"
   ]
  },
  {
   "cell_type": "code",
   "execution_count": 15,
   "metadata": {
    "collapsed": true
   },
   "outputs": [],
   "source": [
    "def gau(mean, var, varInv, feature):\n",
    "\ta = numpy.sqrt(2*numpy.pi**3)\n",
    "\tb = numpy.exp(-0.5*numpy.dot((feature-mean), numpy.dot(varInv, (feature-mean).transpose())))\n",
    "\treturn b/a"
   ]
  },
  {
   "cell_type": "code",
   "execution_count": 16,
   "metadata": {
    "collapsed": true
   },
   "outputs": [],
   "source": [
    "def res(likelihoods):\n",
    "\ttempList = []\n",
    "\tfor comp in likelihoods:\n",
    "\t\ttempList.append(comp/sum(likelihoods))\n",
    "\treturn tempList"
   ]
  },
  {
   "cell_type": "code",
   "execution_count": 17,
   "metadata": {
    "collapsed": true
   },
   "outputs": [],
   "source": [
    "def likeli(mean, var, varInv, weights, feature):\n",
    "\ttemp = []\n",
    "\tfor x in v:\n",
    "\t\ttemp.append(weights[x]*gau(mean[x], var[x], varInv[x], feature))\n",
    "\treturn temp"
   ]
  },
  {
   "cell_type": "code",
   "execution_count": 18,
   "metadata": {
    "collapsed": true
   },
   "outputs": [],
   "source": [
    "varInv = [numpy.linalg.inv(var[0]), numpy.linalg.inv(var[1]), numpy.linalg.inv(var[2])]\n",
    "meanPrev = [numpy.array([0, 0, 0]), numpy.array([0, 0, 0]), numpy.array([0, 0, 0])]\n",
    "iteration = []\n",
    "logLikelihoods = []\n",
    "counterr = 0"
   ]
  },
  {
   "cell_type": "code",
   "execution_count": 19,
   "metadata": {
    "collapsed": true
   },
   "outputs": [],
   "source": [
    "while sum(sum(numpy.absolute(numpy.asarray(mean) - numpy.asarray(meanPrev)))) >= 3:\n",
    "\tresp = []\n",
    "\tlikelihoods = []\n",
    "\tfor feature in feat:\n",
    "\t\tclassLikelihoods = likeli(mean, var, varInv, weights, feature)\n",
    "\t\trspblts = res(classLikelihoods)\n",
    "\t\tlikelihoods.append(sum(classLikelihoods))\n",
    "\t\tresp.append(rspblts)\n",
    "\tlogLikelihoods.append(sum(numpy.log(likelihoods)))\n",
    "\tnK = [sum(numpy.asarray(resp)[:,0:1]), sum(numpy.asarray(resp)[:,1:2]), sum(numpy.asarray(resp)[:,2:3])]\n",
    "\tweights = [float(nK[0]/N), float(nK[1]/N), float(nK[2]/N)]\n",
    "\tmeanIterator =  numpy.dot(numpy.asarray(resp).T, feat)\n",
    "\tmeanPrev = mean\n",
    "\tmean = [meanIterator[0]/nK[0], meanIterator[1]/nK[1], meanIterator[2]/nK[2]]\n",
    "\tcounterr += 1\n",
    "\titeration.append(counterr)"
   ]
  },
  {
   "cell_type": "code",
   "execution_count": 20,
   "metadata": {
    "collapsed": true
   },
   "outputs": [],
   "source": [
    "resp = []\n",
    "for feature in feat:\n",
    "\tclassLikelihoods = likeli(mean, var, varInv, weights, feature)\n",
    "\trspblts = res(classLikelihoods)\n",
    "\tresp.append(rspblts)\n",
    "\t\n",
    "result = []\n",
    "counter = 0\n",
    "segmentedImage = numpy.zeros((N, numpy.shape(img)[2]), numpy.uint8)"
   ]
  },
  {
   "cell_type": "code",
   "execution_count": 21,
   "metadata": {
    "collapsed": true
   },
   "outputs": [],
   "source": [
    "for response in resp:\n",
    "    maxResp = max(response)\n",
    "    respmax = response.index(maxResp)\n",
    "    result.append(respmax)\n",
    "    segmentedImage[counter] = mean[respmax]\n",
    "    counter = counter + 1"
   ]
  },
  {
   "cell_type": "code",
   "execution_count": 22,
   "metadata": {
    "collapsed": true
   },
   "outputs": [],
   "source": [
    "blue0 = segmentedImage[:,0]\n",
    "green0 = segmentedImage[:,1]\n",
    "red0 = segmentedImage[:,2]"
   ]
  },
  {
   "cell_type": "code",
   "execution_count": 23,
   "metadata": {
    "collapsed": true
   },
   "outputs": [],
   "source": [
    "blue = numpy.reshape(blue0.flatten(), (numpy.shape(img)[0],numpy.shape(img)[1]))\n",
    "green = numpy.reshape(green0.flatten(), (numpy.shape(img)[0],numpy.shape(img)[1]))\n",
    "red = numpy.reshape(red0.flatten(), (numpy.shape(img)[0],numpy.shape(img)[1]))"
   ]
  },
  {
   "cell_type": "code",
   "execution_count": 24,
   "metadata": {
    "collapsed": true
   },
   "outputs": [],
   "source": [
    "recns = numpy.zeros((320, 480, 3))"
   ]
  },
  {
   "cell_type": "code",
   "execution_count": 25,
   "metadata": {
    "collapsed": true
   },
   "outputs": [],
   "source": [
    "for i in range(320):\n",
    "\tfor j in range(480):\n",
    "\t\trecns[i][j] = numpy.array([blue[i][j], green[i][j], red[i][j]])"
   ]
  },
  {
   "cell_type": "code",
   "execution_count": 26,
   "metadata": {},
   "outputs": [
    {
     "data": {
      "image/png": "[encoded data removed]",
      "text/plain": [
       "<matplotlib.figure.Figure at 0x114ddbef0>"
      ]
     },
     "metadata": {},
     "output_type": "display_data"
    }
   ],
   "source": [
    "pyplot.imshow(recns)\n",
    "pyplot.show()"
   ]
  },
  {
   "cell_type": "code",
   "execution_count": 27,
   "metadata": {},
   "outputs": [
    {
     "data": {
      "text/plain": [
       "Text(0.5,0,'Iteration number')"
      ]
     },
     "execution_count": 27,
     "metadata": {},
     "output_type": "execute_result"
    },
    {
     "data": {
      "image/png": "[encoded data removed]",
      "text/plain": [
       "<matplotlib.figure.Figure at 0x116efbdd8>"
      ]
     },
     "metadata": {},
     "output_type": "display_data"
    }
   ],
   "source": [
    "pyplot.plot(iteration, logLikelihoods)\n",
    "pyplot.title('likelihood convergence')\n",
    "pyplot.ylabel('Likelihood')\n",
    "pyplot.xlabel('Iteration number')"
   ]
  }
 ],
 "metadata": {
  "kernelspec": {
   "display_name": "Python 3",
   "language": "python",
   "name": "python3"
  },
  "language_info": {
   "codemirror_mode": {
    "name": "ipython",
    "version": 3
   },
   "file_extension": ".py",
   "mimetype": "text/x-python",
   "name": "python",
   "nbconvert_exporter": "python",
   "pygments_lexer": "ipython3",
   "version": "3.6.3"
  }
 },
 "nbformat": 4,
 "nbformat_minor": 2
}
